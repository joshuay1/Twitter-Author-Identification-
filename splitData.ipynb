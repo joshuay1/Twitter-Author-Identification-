{
 "cells": [
  {
   "cell_type": "code",
   "execution_count": 12,
   "metadata": {},
   "outputs": [],
   "source": [
    "import pandas as pd\n",
    "import numpy as np\n",
    "from sklearn.utils import shuffle\n",
    "#data = pd.read_csv('data/train_tweets.txt', sep=\" \", header=None)\n",
    "#data.columns = [\"id\", \"tweets\"]\n",
    "f = open(\"data/train_tweets.txt\", \"r\")\n",
    "userid = []\n",
    "tweets = []\n",
    "for line in f:\n",
    "    temp = line.split(\"\\t\")\n",
    "    userid.append(temp[0])\n",
    "    tweets.append(\"\\t\".join(temp[1:]))\n",
    "f.close()"
   ]
  },
  {
   "cell_type": "code",
   "execution_count": 26,
   "metadata": {},
   "outputs": [],
   "source": [
    "from sklearn.utils import shuffle\n",
    "shuffled_y, shuffled_X = shuffle(userid, tweets, random_state=0)"
   ]
  },
  {
   "cell_type": "code",
   "execution_count": 27,
   "metadata": {},
   "outputs": [
    {
     "name": "stdout",
     "output_type": "stream",
     "text": [
      "Man accused of sword attack after finding soda can http://bit.ly/2twCgy\n",
      "\n",
      "1545\n"
     ]
    }
   ],
   "source": [
    "print(shuffled_X[0])\n",
    "print(shuffled_y[0])"
   ]
  },
  {
   "cell_type": "code",
   "execution_count": 28,
   "metadata": {},
   "outputs": [],
   "source": [
    "from sklearn.model_selection import train_test_split\n",
    "X_train, X_test, y_train, y_test = train_test_split(shuffled_X, shuffled_y, test_size=0.25, random_state=42)"
   ]
  },
  {
   "cell_type": "code",
   "execution_count": 31,
   "metadata": {},
   "outputs": [
    {
     "name": "stdout",
     "output_type": "stream",
     "text": [
      "246699\n",
      "82233\n"
     ]
    }
   ],
   "source": [
    "print(len(X_train))\n",
    "print(len(X_test))"
   ]
  },
  {
   "cell_type": "code",
   "execution_count": 34,
   "metadata": {},
   "outputs": [],
   "source": [
    "with open('data/splitted_train.txt', 'a') as the_file:\n",
    "    for i in range(len(X_train)):\n",
    "        line = y_train[i] + \"\\t\" + X_train[i]\n",
    "        the_file.write(line)\n",
    "    "
   ]
  },
  {
   "cell_type": "code",
   "execution_count": null,
   "metadata": {},
   "outputs": [],
   "source": [
    "with open('data/splitted_test.txt', 'a') as the_file:\n",
    "    for i in range(len(X_t)):\n",
    "        line = y_train[i] + \"\\t\" + X_train[i]\n",
    "        the_file.write(line)\n",
    "        "
   ]
  }
 ],
 "metadata": {
  "kernelspec": {
   "display_name": "Python 3",
   "language": "python",
   "name": "python3"
  },
  "language_info": {
   "codemirror_mode": {
    "name": "ipython",
    "version": 3
   },
   "file_extension": ".py",
   "mimetype": "text/x-python",
   "name": "python",
   "nbconvert_exporter": "python",
   "pygments_lexer": "ipython3",
   "version": "3.7.3"
  }
 },
 "nbformat": 4,
 "nbformat_minor": 2
}
