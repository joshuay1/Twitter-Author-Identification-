{
 "cells": [
  {
   "cell_type": "code",
   "execution_count": 5,
   "metadata": {},
   "outputs": [],
   "source": [
    "from tensorflow.keras.preprocessing.text import Tokenizer\n",
    "from tensorflow.keras.preprocessing.sequence import pad_sequences\n",
    "import pandas as pd\n",
    "import numpy as np\n",
    "from tensorflow.keras.models import Sequential\n",
    "from tensorflow.keras.layers import Embedding, Flatten, Dense\n",
    "from tensorflow.keras.utils import to_categorical\n",
    "from sklearn.model_selection import train_test_split\n",
    "import matplotlib.pyplot as plt\n",
    "import re"
   ]
  },
  {
   "cell_type": "code",
   "execution_count": 6,
   "metadata": {},
   "outputs": [],
   "source": [
    "# Read a prepare data\n",
    "\n",
    "def read_prep_token_data(tweets_file,maxlen=10,max_words = 10000):\n",
    "    data = []\n",
    "    with open(tweets_file, \"r\") as file:\n",
    "        for i in file:\n",
    "            data_line = file.readline()\n",
    "            data_line = data_line.replace(\"@handle\",\"\")\n",
    "            data_line = re.sub(r'http\\S+', '', data_line)\n",
    "            data_line = data_line.replace(\"\\n\",\"\")\n",
    "            data_line = data_line.split(\"\\t\")\n",
    "            data.append(data_line)\n",
    "    \n",
    "    idx = np.asarray([data[i][0] for i in range(len(data))],dtype=int)    \n",
    "    \n",
    "    text = [data[i][1] for i in range(len(data))]\n",
    "    tokenizer = Tokenizer(num_words=max_words)\n",
    "    tokenizer.fit_on_texts(text)\n",
    "    token_data = tokenizer.texts_to_sequences(text)\n",
    "    token_data = pad_sequences(token_data, maxlen=maxlen)\n",
    "    \n",
    "    \n",
    "    return idx,token_data,tokenizer\n"
   ]
  },
  {
   "cell_type": "code",
   "execution_count": 7,
   "metadata": {},
   "outputs": [],
   "source": [
    "idx,token_data,tokenizer = read_prep_token_data(\"train_tweets.txt\")\n",
    "X_train, X_test, y_train, y_test = train_test_split(\n",
    "    token_data, idx, test_size=0.25, random_state=69)"
   ]
  },
  {
   "cell_type": "code",
   "execution_count": 8,
   "metadata": {},
   "outputs": [
    {
     "data": {
      "text/plain": [
       "array([[   0,    0,    0, ...,    6,    1,   13],\n",
       "       [  12,   27, 1125, ...,   11,   78, 2195],\n",
       "       [ 216,  202,    2, ...,   22, 2533, 6258],\n",
       "       ...,\n",
       "       [3308,   52,   33, ..., 3571,   57, 1125],\n",
       "       [ 376, 1879,   10, ...,   70,   11,  193],\n",
       "       [   0,    0,    0, ...,   90,   60, 1778]], dtype=int32)"
      ]
     },
     "execution_count": 8,
     "metadata": {},
     "output_type": "execute_result"
    }
   ],
   "source": [
    "X_train"
   ]
  },
  {
   "cell_type": "code",
   "execution_count": 9,
   "metadata": {},
   "outputs": [
    {
     "data": {
      "text/plain": [
       "array([9624, 1287, 6731, ..., 1512, 4349, 3383])"
      ]
     },
     "execution_count": 9,
     "metadata": {},
     "output_type": "execute_result"
    }
   ],
   "source": [
    "y_train"
   ]
  },
  {
   "cell_type": "code",
   "execution_count": null,
   "metadata": {},
   "outputs": [],
   "source": []
  }
 ],
 "metadata": {
  "kernelspec": {
   "display_name": "Python 3",
   "language": "python",
   "name": "python3"
  },
  "language_info": {
   "codemirror_mode": {
    "name": "ipython",
    "version": 3
   },
   "file_extension": ".py",
   "mimetype": "text/x-python",
   "name": "python",
   "nbconvert_exporter": "python",
   "pygments_lexer": "ipython3",
   "version": "3.7.3"
  }
 },
 "nbformat": 4,
 "nbformat_minor": 2
}
