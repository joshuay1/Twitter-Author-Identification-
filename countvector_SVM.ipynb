{
 "cells": [
  {
   "cell_type": "code",
   "execution_count": 0,
   "metadata": {
    "colab": {},
    "colab_type": "code",
    "collapsed": true,
    "deletable": true,
    "editable": true,
    "id": "Z7hlfLHEs-oQ"
   },
   "outputs": [],
   "source": [
    "#!pip install thundersvm"
   ]
  },
  {
   "cell_type": "code",
   "execution_count": 2,
   "metadata": {
    "colab": {},
    "colab_type": "code",
    "collapsed": false,
    "deletable": true,
    "editable": true,
    "id": "KcazKwg6ekYO"
   },
   "outputs": [],
   "source": [
    "import pandas as pd\n",
    "import numpy as np\n",
    "import pickle\n",
    "import re\n",
    "from sklearn.naive_bayes import MultinomialNB\n",
    "from sklearn.linear_model import SGDClassifier\n",
    "from sklearn.preprocessing import LabelEncoder\n",
    "from nltk.stem import WordNetLemmatizer\n",
    "from sklearn.feature_extraction.text import CountVectorizer\n",
    "from sklearn.model_selection import train_test_split\n",
    "from sklearn.model_selection import GridSearchCV\n",
    "labelencoder = LabelEncoder()\n",
    "\n",
    "from sklearn.metrics import classification_report\n",
    "from sklearn.metrics import accuracy_score\n",
    "from sklearn.metrics import precision_score\n",
    "from sklearn.metrics import recall_score\n",
    "from sklearn.metrics import f1_score"
   ]
  },
  {
   "cell_type": "code",
   "execution_count": 5,
   "metadata": {
    "colab": {
     "base_uri": "https://localhost:8080/",
     "height": 216
    },
    "colab_type": "code",
    "collapsed": false,
    "deletable": true,
    "editable": true,
    "executionInfo": {
     "elapsed": 3542,
     "status": "ok",
     "timestamp": 1568158108449,
     "user": {
      "displayName": "Joshua Yang",
      "photoUrl": "https://lh3.googleusercontent.com/a-/AAuE7mDVB3AfDvNmbyDsHf-oYEkYyiBAvZ7cG2ar6ndEOdE=s64",
      "userId": "14795918648404539685"
     },
     "user_tz": -600
    },
    "id": "wrd7GwbheDsr",
    "outputId": "b688695d-1d03-461d-9ffc-ad70f54fa307"
   },
   "outputs": [
    {
     "name": "stdout",
     "output_type": "stream",
     "text": [
      "(328195, 2)\n"
     ]
    },
    {
     "data": {
      "text/html": [
       "<div>\n",
       "<style scoped>\n",
       "    .dataframe tbody tr th:only-of-type {\n",
       "        vertical-align: middle;\n",
       "    }\n",
       "\n",
       "    .dataframe tbody tr th {\n",
       "        vertical-align: top;\n",
       "    }\n",
       "\n",
       "    .dataframe thead th {\n",
       "        text-align: right;\n",
       "    }\n",
       "</style>\n",
       "<table border=\"1\" class=\"dataframe\">\n",
       "  <thead>\n",
       "    <tr style=\"text-align: right;\">\n",
       "      <th></th>\n",
       "      <th>author_Id</th>\n",
       "      <th>tweet</th>\n",
       "    </tr>\n",
       "  </thead>\n",
       "  <tbody>\n",
       "    <tr>\n",
       "      <td>0</td>\n",
       "      <td>8746</td>\n",
       "      <td>@handle Let's try and catch up live next week!</td>\n",
       "    </tr>\n",
       "    <tr>\n",
       "      <td>1</td>\n",
       "      <td>8746</td>\n",
       "      <td>Going to watch Grey's on the big screen - Thur...</td>\n",
       "    </tr>\n",
       "    <tr>\n",
       "      <td>2</td>\n",
       "      <td>8746</td>\n",
       "      <td>@handle My pleasure Patrick....hope you are well!</td>\n",
       "    </tr>\n",
       "    <tr>\n",
       "      <td>3</td>\n",
       "      <td>8746</td>\n",
       "      <td>@handle Hi there! Been traveling a lot and lot...</td>\n",
       "    </tr>\n",
       "    <tr>\n",
       "      <td>4</td>\n",
       "      <td>8746</td>\n",
       "      <td>RT @handle Looking to Drink Clean &amp; Go Green? ...</td>\n",
       "    </tr>\n",
       "  </tbody>\n",
       "</table>\n",
       "</div>"
      ],
      "text/plain": [
       "   author_Id                                              tweet\n",
       "0       8746     @handle Let's try and catch up live next week!\n",
       "1       8746  Going to watch Grey's on the big screen - Thur...\n",
       "2       8746  @handle My pleasure Patrick....hope you are well!\n",
       "3       8746  @handle Hi there! Been traveling a lot and lot...\n",
       "4       8746  RT @handle Looking to Drink Clean & Go Green? ..."
      ]
     },
     "execution_count": 5,
     "metadata": {},
     "output_type": "execute_result"
    }
   ],
   "source": [
    "path='train_tweets.txt'\n",
    "dtype={'tweet':'str'}\n",
    "header=['author_Id', 'tweet']\n",
    "data= pd.read_csv(path, sep='\\t', names=header, dtype=dtype)\n",
    "print(data.shape)\n",
    "data.head(5)"
   ]
  },
  {
   "cell_type": "code",
   "execution_count": 6,
   "metadata": {
    "colab": {
     "base_uri": "https://localhost:8080/",
     "height": 138
    },
    "colab_type": "code",
    "collapsed": false,
    "deletable": true,
    "editable": true,
    "executionInfo": {
     "elapsed": 5501,
     "status": "ok",
     "timestamp": 1568158110929,
     "user": {
      "displayName": "Joshua Yang",
      "photoUrl": "https://lh3.googleusercontent.com/a-/AAuE7mDVB3AfDvNmbyDsHf-oYEkYyiBAvZ7cG2ar6ndEOdE=s64",
      "userId": "14795918648404539685"
     },
     "user_tz": -600
    },
    "id": "wu2j3LJEgtSC",
    "outputId": "b124e340-d831-4cb5-fb90-18bd4b9c2b03"
   },
   "outputs": [
    {
     "name": "stdout",
     "output_type": "stream",
     "text": [
      "----Original Training Data----\n",
      "Number of Classes:9283\n",
      "Number of Tweets:262556\n",
      "\n",
      "----Reduced Training Data----\n",
      "Number of Classes:8854\n",
      "Number of Tweets:260306\n"
     ]
    }
   ],
   "source": [
    "y = data.author_Id\n",
    "X = data.tweet\n",
    "X_train, X_dev, y_train, y_dev = train_test_split(X, y, test_size=0.2, random_state=69)\n",
    "\n",
    "train_data = pd.concat([X_train, y_train],axis=1)\n",
    "\n",
    "class_group = train_data.groupby('author_Id')\n",
    "class_size = class_group.size()\n",
    "num_class = len(class_size)\n",
    "print('----Original Training Data----')\n",
    "print('Number of Classes:'+str(num_class))\n",
    "print('Number of Tweets:'+str(len(train_data)))\n",
    "\n",
    "reduced_data = train_data\n",
    "reduced_data = class_group.filter(lambda x: len(x) >= 10)\n",
    "print('\\n----Reduced Training Data----')\n",
    "print('Number of Classes:'+str(len(reduced_data.groupby('author_Id').size())))\n",
    "print('Number of Tweets:'+str(len(reduced_data)))\n",
    "\n",
    "#reduced_data.sort_values(by = \"author_Id\")\n",
    "#concatenated_data = reduced_data.groupby('author_Id')['tweet'].apply(' '.join).reset_index()\n",
    "#concatenated_data.sample(frac=1).reset_index(drop=True)\n",
    "#print('\\n----Concatenated Reduced Training Data----')\n",
    "#print('Number of Classes:'+str(len(concatenated_data.groupby('author_Id').size())))\n",
    "#print('Number of Tweets:'+str(len(concatenated_data)))"
   ]
  },
  {
   "cell_type": "code",
   "execution_count": 9,
   "metadata": {
    "colab": {},
    "colab_type": "code",
    "collapsed": true,
    "deletable": true,
    "editable": true,
    "id": "D5QkZEZU0VTQ"
   },
   "outputs": [],
   "source": [
    "X_train = reduced_data.tweet\n",
    "y_train = reduced_data.author_Id"
   ]
  },
  {
   "cell_type": "code",
   "execution_count": 10,
   "metadata": {
    "colab": {},
    "colab_type": "code",
    "collapsed": true,
    "deletable": true,
    "editable": true,
    "id": "uepPTNBGgYDo"
   },
   "outputs": [],
   "source": [
    "def preprocess(data_line):\n",
    "  data_line = re.sub('#', ' #hashtag ', data_line)\n",
    "  data_line = re.sub('@handle', ' #handle ', data_line)\n",
    "  data_line = re.sub(r'http\\S+', '#http', data_line)\n",
    "  #data_line = re.sub(r'\\d', r' \\g[0] ', data_line)    \n",
    "  data_line = data_line.replace(\"\\n\",\"\")\n",
    "  signs = set('<^>-+@>,!?$())[](&%/*.:;\"')\n",
    "  for word in data_line.split():\n",
    "    if not re.search(r'^[:=;xX][oO0\\-]?[dD\\)\\]\\(\\]/\\\\o0OpP]$', word):\n",
    "      prods = set(word) & signs\n",
    "      for sign in prods:\n",
    "        data_line = data_line.replace(sign, ' {} '.format(sign))\n",
    "  return [word.lower() for word in data_line.split()]"
   ]
  },
  {
   "cell_type": "code",
   "execution_count": 11,
   "metadata": {
    "colab": {
     "base_uri": "https://localhost:8080/",
     "height": 34
    },
    "colab_type": "code",
    "collapsed": false,
    "deletable": true,
    "editable": true,
    "executionInfo": {
     "elapsed": 27364,
     "status": "ok",
     "timestamp": 1568160169151,
     "user": {
      "displayName": "Joshua Yang",
      "photoUrl": "https://lh3.googleusercontent.com/a-/AAuE7mDVB3AfDvNmbyDsHf-oYEkYyiBAvZ7cG2ar6ndEOdE=s64",
      "userId": "14795918648404539685"
     },
     "user_tz": -600
    },
    "id": "52vLpsixh6_N",
    "outputId": "ce245e40-b489-4279-890e-4a6683a5769a"
   },
   "outputs": [
    {
     "name": "stdout",
     "output_type": "stream",
     "text": [
      "5000\n"
     ]
    }
   ],
   "source": [
    "bow_transformer=CountVectorizer(analyzer=preprocess, max_features=5000).fit(X_train)\n",
    "text_bow_train=bow_transformer.transform(X_train)\n",
    "text_bow_dev=bow_transformer.transform(X_dev)\n",
    "\n",
    "input_dim = len(bow_transformer.get_feature_names())\n",
    "print(input_dim)"
   ]
  },
  {
   "cell_type": "code",
   "execution_count": 12,
   "metadata": {
    "colab": {
     "base_uri": "https://localhost:8080/",
     "height": 34
    },
    "colab_type": "code",
    "collapsed": false,
    "deletable": true,
    "editable": true,
    "executionInfo": {
     "elapsed": 26879,
     "status": "ok",
     "timestamp": 1568160169152,
     "user": {
      "displayName": "Joshua Yang",
      "photoUrl": "https://lh3.googleusercontent.com/a-/AAuE7mDVB3AfDvNmbyDsHf-oYEkYyiBAvZ7cG2ar6ndEOdE=s64",
      "userId": "14795918648404539685"
     },
     "user_tz": -600
    },
    "id": "E3mhmioDbuLy",
    "outputId": "9b503536-d1d4-4e76-d12b-843050e4433f"
   },
   "outputs": [
    {
     "name": "stdout",
     "output_type": "stream",
     "text": [
      "SDG model is built.\n"
     ]
    }
   ],
   "source": [
    "method = 'SDG'\n",
    "\n",
    "if method == 'NB':\n",
    "  model = MultinomialNB()\n",
    "  \n",
    "if method == 'SVM':\n",
    "  model = SVC(gamma='auto',verbose=2, C=1, kernel='linear')\n",
    "  \n",
    "if method == 'SDG':\n",
    "  #parameters = {'panelty':['l2', 'l1', 'elasticnet']}\n",
    "  sdg = SGDClassifier(early_stopping=True, verbose=0, n_jobs=-1)\n",
    "  #sdg_gs = GridSearchCV(sdg, parameters)\n",
    "  \n",
    "print(method +' model is built.')"
   ]
  },
  {
   "cell_type": "code",
   "execution_count": 13,
   "metadata": {
    "colab": {},
    "colab_type": "code",
    "collapsed": false,
    "deletable": true,
    "editable": true,
    "id": "fL9f1gH9YqCq"
   },
   "outputs": [
    {
     "name": "stderr",
     "output_type": "stream",
     "text": [
      "C:\\Users\\user\\AppData\\Roaming\\Python\\Python37\\site-packages\\sklearn\\linear_model\\stochastic_gradient.py:166: FutureWarning: max_iter and tol parameters have been added in SGDClassifier in 0.19. If both are left unset, they default to max_iter=5 and tol=None. If tol is not None, max_iter defaults to max_iter=1000. From 0.21, default max_iter will be 1000, and default tol will be 1e-3.\n",
      "  FutureWarning)\n"
     ]
    },
    {
     "name": "stdout",
     "output_type": "stream",
     "text": [
      "SGDClassifier(alpha=0.0001, average=False, class_weight=None,\n",
      "       early_stopping=True, epsilon=0.1, eta0=0.0, fit_intercept=True,\n",
      "       l1_ratio=0.15, learning_rate='optimal', loss='hinge', max_iter=None,\n",
      "       n_iter=None, n_iter_no_change=5, n_jobs=-1, penalty='l2',\n",
      "       power_t=0.5, random_state=None, shuffle=True, tol=None,\n",
      "       validation_fraction=0.1, verbose=0, warm_start=False)\n"
     ]
    }
   ],
   "source": [
    "clf = sdg.fit(text_bow_train, y_train)\n",
    "print(clf)\n",
    "\n",
    "#best_parameters = sdg_gs.best_params_\n",
    "#print(best_parameters)"
   ]
  },
  {
   "cell_type": "code",
   "execution_count": null,
   "metadata": {
    "colab": {},
    "colab_type": "code",
    "collapsed": true,
    "deletable": true,
    "editable": true,
    "id": "KCkvdLWAzU4b"
   },
   "outputs": [],
   "source": [
    "predict_y = clf.predict(text_bow_dev)\n",
    "print('Prediction has been completed.')"
   ]
  },
  {
   "cell_type": "code",
   "execution_count": null,
   "metadata": {
    "colab": {},
    "colab_type": "code",
    "collapsed": true,
    "deletable": true,
    "editable": true,
    "id": "a93t8vM30Cea"
   },
   "outputs": [],
   "source": [
    "def classifier_report(true_y, predict_y):\n",
    "    \n",
    "    print(\"Accuracy: \",accuracy_score(true_y, predict_y))\n",
    "    print(\"Precision: \", precision_score(true_y, predict_y, average = \"macro\"))\n",
    "    print(\"Recall: \", recall_score(true_y, predict_y, average = \"macro\"))\n",
    "    print(\"F1-score: \", f1_score(true_y, predict_y, average = \"macro\"))\n",
    "    \n",
    "    return \n",
    "  \n",
    "classifier_report(y_dev, predict_y)"
   ]
  },
  {
   "cell_type": "code",
   "execution_count": null,
   "metadata": {
    "colab": {},
    "colab_type": "code",
    "collapsed": true,
    "deletable": true,
    "editable": true,
    "id": "Ta4fVUa8izxt"
   },
   "outputs": [],
   "source": [
    "filename = '/content/drive/My Drive/Colab Notebooks/SDG_5000d_model.sav'\n",
    "pickle.dump(clf, open(filename, 'wb'))"
   ]
  },
  {
   "cell_type": "code",
   "execution_count": null,
   "metadata": {
    "colab": {},
    "colab_type": "code",
    "collapsed": true,
    "deletable": true,
    "editable": true,
    "id": "ntQjzQJ50v5q"
   },
   "outputs": [],
   "source": [
    "result = open(\"/content/drive/My Drive/Colab Notebooks/SDG_5000d_model.txt\",\"w+\")\n",
    "result.write(\"Accuracy: \",accuracy_score(true_y, predict_y)) \n",
    "result.write(\"Rrecision: \", precision_score(true_y, predict_y, average = \"macro\"))\n",
    "result.write(\"Recall: \", recall_score(true_y, predict_y, average = \"macro\"))\n",
    "result.write(\"F1-score: \", f1_score(true_y, predict_y, average = \"macro\"))"
   ]
  },
  {
   "cell_type": "code",
   "execution_count": 0,
   "metadata": {
    "colab": {},
    "colab_type": "code",
    "collapsed": true,
    "deletable": true,
    "editable": true,
    "id": "w3_PG4VHi4zT"
   },
   "outputs": [],
   "source": []
  }
 ],
 "metadata": {
  "accelerator": "GPU",
  "colab": {
   "collapsed_sections": [],
   "machine_shape": "hm",
   "name": "countvector5.ipynb",
   "provenance": [],
   "version": "0.3.2"
  },
  "kernelspec": {
   "display_name": "voodoo",
   "language": "python",
   "name": "voodoo"
  }
 },
 "nbformat": 4,
 "nbformat_minor": 0
}
