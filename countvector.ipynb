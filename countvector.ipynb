{
 "cells": [
  {
   "cell_type": "code",
   "execution_count": 2,
   "metadata": {
    "collapsed": false,
    "deletable": true,
    "editable": true
   },
   "outputs": [],
   "source": [
    "import pandas as pd\n",
    "import numpy as np\n",
    "import re\n",
    "from sklearn.naive_bayes import MultinomialNB\n",
    "from sklearn.svm import SVC\n",
    "from sklearn.svm import SVC\n",
    "from sklearn.preprocessing import LabelEncoder\n",
    "from nltk.stem import WordNetLemmatizer\n",
    "labelencoder = LabelEncoder()\n",
    "\n",
    "from sklearn.feature_extraction.text import CountVectorizer\n",
    "from sklearn.model_selection import train_test_split\n",
    "from sklearn.metrics import classification_report\n",
    "from sklearn.metrics import accuracy_score\n",
    "from sklearn.metrics import precision_score\n",
    "from sklearn.metrics import recall_score\n",
    "from sklearn.metrics import f1_score"
   ]
  },
  {
   "cell_type": "code",
   "execution_count": 3,
   "metadata": {
    "collapsed": false,
    "deletable": true,
    "editable": true
   },
   "outputs": [
    {
     "name": "stdout",
     "output_type": "stream",
     "text": [
      "(328195, 2)\n"
     ]
    },
    {
     "data": {
      "text/html": [
       "<div>\n",
       "<style scoped>\n",
       "    .dataframe tbody tr th:only-of-type {\n",
       "        vertical-align: middle;\n",
       "    }\n",
       "\n",
       "    .dataframe tbody tr th {\n",
       "        vertical-align: top;\n",
       "    }\n",
       "\n",
       "    .dataframe thead th {\n",
       "        text-align: right;\n",
       "    }\n",
       "</style>\n",
       "<table border=\"1\" class=\"dataframe\">\n",
       "  <thead>\n",
       "    <tr style=\"text-align: right;\">\n",
       "      <th></th>\n",
       "      <th>author_Id</th>\n",
       "      <th>tweet</th>\n",
       "    </tr>\n",
       "  </thead>\n",
       "  <tbody>\n",
       "    <tr>\n",
       "      <td>0</td>\n",
       "      <td>8746</td>\n",
       "      <td>@handle Let's try and catch up live next week!</td>\n",
       "    </tr>\n",
       "    <tr>\n",
       "      <td>1</td>\n",
       "      <td>8746</td>\n",
       "      <td>Going to watch Grey's on the big screen - Thur...</td>\n",
       "    </tr>\n",
       "    <tr>\n",
       "      <td>2</td>\n",
       "      <td>8746</td>\n",
       "      <td>@handle My pleasure Patrick....hope you are well!</td>\n",
       "    </tr>\n",
       "    <tr>\n",
       "      <td>3</td>\n",
       "      <td>8746</td>\n",
       "      <td>@handle Hi there! Been traveling a lot and lot...</td>\n",
       "    </tr>\n",
       "    <tr>\n",
       "      <td>4</td>\n",
       "      <td>8746</td>\n",
       "      <td>RT @handle Looking to Drink Clean &amp; Go Green? ...</td>\n",
       "    </tr>\n",
       "  </tbody>\n",
       "</table>\n",
       "</div>"
      ],
      "text/plain": [
       "   author_Id                                              tweet\n",
       "0       8746     @handle Let's try and catch up live next week!\n",
       "1       8746  Going to watch Grey's on the big screen - Thur...\n",
       "2       8746  @handle My pleasure Patrick....hope you are well!\n",
       "3       8746  @handle Hi there! Been traveling a lot and lot...\n",
       "4       8746  RT @handle Looking to Drink Clean & Go Green? ..."
      ]
     },
     "execution_count": 3,
     "metadata": {},
     "output_type": "execute_result"
    }
   ],
   "source": [
    "path='data/train_tweets.txt'\n",
    "dtype={'tweet':'str'}\n",
    "header=['author_Id', 'tweet']\n",
    "data= pd.read_csv(path, sep='\\t', names=header, dtype=dtype)\n",
    "print(data.shape)\n",
    "data.head(5)"
   ]
  },
  {
   "cell_type": "code",
   "execution_count": 20,
   "metadata": {
    "collapsed": false,
    "deletable": true,
    "editable": true
   },
   "outputs": [
    {
     "name": "stdout",
     "output_type": "stream",
     "text": [
      "----Original Training Data----\n",
      "Number of Classes:9283\n",
      "Number of Tweets:262556\n",
      "\n",
      "----Reduced Training Data----\n",
      "Number of Classes:9283\n",
      "Number of Tweets:262556\n",
      "\n",
      "----Concatenated Reduced Training Data----\n",
      "Number of Classes:9283\n",
      "Number of Tweets:9283\n"
     ]
    }
   ],
   "source": [
    "y = data.author_Id\n",
    "X = data.tweet\n",
    "X_train, X_dev, y_train, y_dev = train_test_split(X, y, test_size=0.2, random_state=69)\n",
    "\n",
    "train_data = pd.concat([X_train, y_train],axis=1)\n",
    "\n",
    "class_group = train_data.groupby('author_Id')\n",
    "class_size = class_group.size()\n",
    "num_class = len(class_size)\n",
    "print('----Original Training Data----')\n",
    "print('Number of Classes:'+str(num_class))\n",
    "print('Number of Tweets:'+str(len(train_data)))\n",
    "\n",
    "reduced_data = train_data\n",
    "#reduced_data = class_group.filter(lambda x: len(x) >= 10)\n",
    "print('\\n----Reduced Training Data----')\n",
    "print('Number of Classes:'+str(len(reduced_data.groupby('author_Id').size())))\n",
    "print('Number of Tweets:'+str(len(reduced_data)))\n",
    "\n",
    "reduced_data.sort_values(by = \"author_Id\")\n",
    "concatenated_data = reduced_data.groupby('author_Id')['tweet'].apply(' '.join).reset_index()\n",
    "concatenated_data.sample(frac=1).reset_index(drop=True)\n",
    "print('\\n----Concatenated Reduced Training Data----')\n",
    "print('Number of Classes:'+str(len(concatenated_data.groupby('author_Id').size())))\n",
    "print('Number of Tweets:'+str(len(concatenated_data)))"
   ]
  },
  {
   "cell_type": "code",
   "execution_count": 21,
   "metadata": {
    "collapsed": true,
    "deletable": true,
    "editable": true
   },
   "outputs": [],
   "source": [
    "X_train = concatenated_data.tweet\n",
    "y_train = concatenated_data.author_Id"
   ]
  },
  {
   "cell_type": "code",
   "execution_count": 27,
   "metadata": {
    "collapsed": true,
    "deletable": true,
    "editable": true
   },
   "outputs": [],
   "source": [
    "def preprocess(data_line):\n",
    "    data_line = re.sub('#', ' #hashtag ', data_line)\n",
    "    data_line = re.sub(r'http\\S+', '#http', data_line)\n",
    "    data_line = re.sub(r'\\d', ' #number ', data_line)\n",
    "    data_line = re.sub(r'[:=;xX][oO0\\-]?[dD\\)\\]\\(\\]/\\\\o0OpP]', ' #emoji ', data_line) \n",
    "    data_line = data_line.replace(\"\\n\",\"\")\n",
    "    for word in data_line.split():\n",
    "        if word.isupper():\n",
    "            data_line = data_line + ' #upper '\n",
    "    signs = set('<^>-+@>,!?$)[](&%/*.:;\"')\n",
    "    prods = set(data_line) & signs\n",
    "    if not prods:\n",
    "      return data_line\n",
    "    for sign in prods:\n",
    "        data_line = data_line.replace(sign, ' {} '.format(sign))\n",
    "    return [word.lower() for word in data_line.split()]"
   ]
  },
  {
   "cell_type": "code",
   "execution_count": 37,
   "metadata": {
    "collapsed": false,
    "deletable": true,
    "editable": true
   },
   "outputs": [
    {
     "name": "stdout",
     "output_type": "stream",
     "text": [
      "[' ', '!', '\"', '#', '#emoji', '#hashtag', '#http', '#number', '#upper', '$', '%', '&', \"'\", \"'em\", \"'s\", \"'the\", '(', ')', '*', '+', ',', '-', '.', '/', ':', ';', '<', '=', '>', '?', '@', '[', ']', '^', '_', 'a', 'abc', 'ability', 'able', 'about', 'above', 'absolutely', 'abt', 'access', 'accident', 'according', 'account', 'accounts', 'acorn', 'across', 'act', 'acting', 'action', 'active', 'activity', 'actual', 'actually', 'ad', 'adam', 'add', 'added', 'adding', 'address', 'adds', 'adorable', 'ads', 'adult', 'advantage', 'adventure', 'advertising', 'advice', 'affiliate', 'afghanistan', 'afraid', 'africa', 'after', 'afternoon', 'again', 'against', 'age', 'agency', 'agent', 'ago', 'agree', 'agreed', 'ah', 'ahead', 'ahh', 'ahhh', 'aid', 'aids', \"ain't\", 'aint', 'air', 'airport', 'aka', 'al', 'alabama', 'album', 'alert', 'alex', 'alive', 'all', 'allen', 'allow', 'allows', 'almost', 'alone', 'along', 'alot', 'already', 'alright', 'also', 'alternative', 'although', 'always', 'am', 'amazing', 'amazon', 'amen', 'america', 'american', 'americans', 'among', 'an', 'and', 'andrew', 'android', 'angeles', 'angels', 'angry', 'animal', 'animals', 'anniversary', 'announce', 'announced', 'announces', 'annoying', 'annual', 'another', 'answer', 'answers', 'anti', 'antonio', 'any', 'anybody', 'anymore', 'anyone', 'anything', 'anytime', 'anyway', 'anywhere', 'ap', 'apartment', 'app', 'apparently', 'apple', 'application', 'apply', 'appreciate', 'appreciated', 'apps', 'archive', 'are', 'area', \"aren't\", 'arizona', 'army', 'around', 'arrested', 'arrived', 'art', 'article', 'articles', 'artist', 'artists', 'arts', 'as', 'asap', 'ask', 'asked', 'asking', 'asleep', 'ass', 'at', 'ate', 'atl', 'atlanta', 'attack', 'attempt', 'attend', 'attending', 'attention', 'auction', 'audience', 'audio', 'august', 'austin', 'author', 'auto', 'automatically', 'available', 'avatar', 'ave', 'average', 'avoid', 'aw', 'awake', 'award', 'awards', 'awareness', 'away', 'awesome', 'aww', 'awww', 'az', 'b', 'ba', 'babe', 'babies', 'baby', 'back', 'background', 'bacon', 'bad', 'bag', 'bags', 'ball', 'balls', 'band', 'bank', 'banks', 'bar', 'baseball', 'based', 'basketball', 'bath', 'bathroom', 'battery', 'battle', 'bay', 'bb', 'bbq', 'bc', 'bday', 'be', 'beach', 'bear', 'bears', 'beat', 'beatles', 'beats', 'beautiful', 'beauty', 'because', 'become', 'becoming', 'bed', 'been', 'beer', 'before', 'begin', 'beginning', 'begins', 'behind', 'being', 'believe', 'bell', 'below', 'ben', 'benefit', 'benefits', 'besides', 'best', 'bet', 'beta', 'better', 'between', 'beyonce', 'beyond', 'bible', 'bid', 'big', 'bigger', 'biggest', 'bike', 'bill', 'billion', 'bills', 'billy', 'bing', 'bird', 'birth', 'birthday', 'bit', 'bitch', 'biz', 'black', 'blackberry', 'blame', 'blast', 'bless', 'blessed', 'blind', 'block', 'blog', 'blogger', 'blogging', 'blogs', 'blood', 'blow', 'blue', 'blues', 'board', 'boat', 'bob', 'body', 'bomb', 'bonus', 'boo', 'book', 'books', 'boom', 'boost', 'booth', 'boots', 'bored', 'boring', 'born', 'boss', 'boston', 'both', 'bottle', 'bottom', 'bought', 'boulder', 'bout', 'bowl', 'box', 'boy', 'boyfriend', 'boys', 'br', 'brain', 'brand', 'bread', 'break', 'breakfast', 'breaking', 'breast', 'brian', 'bridge', 'bright', 'brilliant', 'bring', 'bringing', 'brings', 'british', 'bro', 'broadcasting', 'broke', 'broken', 'brooklyn', 'brother', 'brothers', 'brought', 'brown', 'btw', 'bucks', 'buddy', 'budget', 'buffalo', 'build', 'building', 'built', 'bunch', 'burger', 'burn', 'bus', 'bush', 'business', 'businesses', 'busy', 'but', 'butt', 'butter', 'button', 'buy', 'buying', 'buzz', 'by', 'bye', 'c', 'ca', 'cable', 'cafe', 'cake', 'calendar', 'california', 'call', 'called', 'calling', 'calls', 'calm', 'came', 'camera', 'camp', 'campaign', 'campus', 'can', \"can't\", 'canada', 'cancer', 'candy', 'cannot', 'cant', 'car', 'card', 'cards', 'care', 'career', 'carolina', 'cars', 'case', 'cash', 'cast', 'cat', 'catch', 'catching', 'cats', 'caught', 'cause', 'cbs', 'cc', 'cd', 'celebrate', 'celebrating', 'celebrity', 'cell', 'cent', 'center', 'central', 'ceo', 'certain', 'certificate', 'chair', 'challenge', 'championship', 'chance', 'change', 'changed', 'changes', 'changing', 'channel', 'character', 'characters', 'charge', 'chargers', 'charity', 'charles', 'charlie', 'charlotte', 'chat', 'cheap', 'check', 'checked', 'checking', 'cheers', 'cheese', 'chef', 'chicago', 'chick', 'chicken', 'chief', 'child', 'children', 'chill', 'chillin', 'china', 'chinese', 'chocolate', 'choice', 'choose', 'chris', 'christian', 'christmas', 'chrome', 'church', 'cities', 'city', 'claims', 'class', 'classes', 'classic', 'clea', 'clean', 'cleaning', 'clear', 'clearly', 'cleveland', 'click', 'client', 'clients', 'climate', 'clip', 'clock', 'close', 'closed', 'closer', 'closing', 'clothes', 'clothing', 'cloud', 'clouds', 'cloudy', 'club', 'cnn', 'co', 'coach', 'coast', 'code', 'coffee', 'cold', 'collection', 'college', 'color', 'colorado', 'colts', 'columbus', 'com', 'come', 'comedy', 'comes', 'comic', 'coming', 'comment', 'comments', 'commercial', 'common', 'community', 'companies', 'company', 'competition', 'complete', 'completely', 'computer', 'con', 'concert', 'conference', 'confused', 'congrats', 'congratulations', 'congress', 'connect', 'connection', 'conservative', 'consider', 'considering', 'construction', 'consumer', 'consumers', 'cont', 'contact', 'content', 'contest', 'continue', 'continues', 'control', 'conversation', 'cook', 'cookie', 'cookies', 'cooking', 'cool', 'cop', 'copy', 'corner', 'corporate', 'correct', 'cost', 'costs', 'costume', 'couch', 'could', \"couldn't\", 'council', 'count', 'counting', 'country', 'county', 'couple', 'coupon', 'course', 'court', 'cover', 'coverage', 'covers', 'cowboys', 'crack', 'crap', 'crash', 'crazy', 'cream', 'create', 'created', 'creating', 'creative', 'credit', 'creepy', 'crew', 'crime', 'crisis', 'cross', 'crowd', 'cry', 'crying', 'ct', 'culture', 'cup', 'cure', 'curious', 'current', 'currently', 'custom', 'customer', 'customers', 'cut', 'cute', 'cuts', 'cuz', 'cyber', 'd', 'da', 'dad', 'daddy', 'daily', 'dallas', 'damn', 'dan', 'dance', 'dancing', 'dang', 'dark', 'dat', 'data', 'date', 'dates', 'dating', 'daughter', 'dave', 'david', 'day', 'days', 'dc', 'de', 'dead', 'deal', 'deals', 'dear', 'death', 'debate', 'debt', 'debut', 'dec', 'december', 'decide', 'decided', 'decision', 'decisions', 'deep', 'def', 'defense', 'definitely', 'degree', 'degrees', 'del', 'delicious', 'dell', 'dem', 'demand', 'demo', 'denver', 'department', 'depends', 'deserve', 'design', 'designer', 'designs', 'desk', 'despite', 'details', 'detroit', 'developer', 'development', 'di', 'dick', 'did', \"didn't\", 'didnt', 'die', 'died', 'diego', 'dies', 'diet', 'difference', 'different', 'difficult', 'dig', 'digg', 'digital', 'dinner', 'direct', 'director', 'directory', 'dirty', 'dis', 'discount', 'discover', 'discovered', 'discuss', 'discussion', 'disney', 'district', 'dj', 'dm', 'dnt', 'do', 'doctor', 'does', \"doesn't\", 'doesnt', 'dog', 'dogs', 'doin', 'doing', 'dollar', 'dollars', 'domain', 'don', \"don't\", 'donate', 'done', 'dont', 'don’t', 'door', 'doors', 'dope', 'double', 'doubt', 'down', 'download', 'downtown', 'dr', 'drake', 'drama', 'dream', 'dreams', 'dress', 'dressed', 'drink', 'drinking', 'drinks', 'drive', 'driver', 'driving', 'droid', 'drop', 'dropped', 'drops', 'drug', 'drunk', 'dry', 'dude', 'due', 'dumb', 'during', 'duty', 'dvd', 'dying', 'e', 'each', 'eagles', 'earlier', 'early', 'earn', 'earth', 'easier', 'easily', 'east', 'eastern', 'easy', 'eat', 'eating', 'ebay', 'eco', 'economic', 'economy', 'ect', 'ected', 'ed', 'edge', 'editing', 'edition', 'editor', 'education', 'een', 'effect', 'effective', 'effort', 'eh', 'either', 'el', 'electric', 'else', 'em', 'email', 'emails', 'employees', 'en', 'end', 'ended', 'ending', 'ends', 'energy', 'engine', 'engineer', 'english', 'enjoy', 'enjoyed', 'enjoying', 'enough', 'ensive', 'enter', 'entertainment', 'entire', 'entrepreneur', 'entrepreneurs', 'entry', 'environmental', 'ep', 'epic', 'episode', 'er', 'eric', 'erience', 'ers', 'ert', 'erts', 'es', 'especially', 'espn', 'est', 'estate', 'et', 'etc', 'etsy', 'eu', 'europe', 'even', 'evening', 'event', 'events', 'ever', 'every', 'everybody', 'everyday', 'everyone', 'everything', 'everywhere', 'evil', 'ex', 'exactly', 'example', 'excellent', 'except', 'exchange', 'excited', 'exciting', 'exclusive', 'executive', 'exercise', 'extra', 'extreme', 'eye', 'eyes', 'f', 'fabulous', 'face', 'facebook', 'faces', 'fact', 'facts', 'fail', 'failed', 'failure', 'fair', 'faith', 'fake', 'fall', 'falling', 'falls', 'fam', 'fame', 'families', 'family', 'famous', 'fan', 'fans', 'fantastic', 'fantasy', 'far', 'farm', 'fashion', 'fast', 'faster', 'fat', 'father', 'fav', 'fave', 'favor', 'favorite', 'favorited', 'fb', 'fear', 'feat', 'feature', 'featured', 'features', 'featuring', 'fed', 'federal', 'feed', 'feedback', 'feel', 'feeling', 'feels', 'feet', 'fell', 'fellow', 'felt', 'female', 'fest', 'festival', 'few', 'ff', 'fi', 'field', 'fight', 'fighting', 'figure', 'figured', 'file', 'files', 'fill', 'filled', 'film', 'films', 'final', 'finally', 'finance', 'financial', 'find', 'finding', 'finds', 'fine', 'fingers', 'finish', 'finished', 'finishing', 'fire', 'firefox', 'firm', 'first', 'fish', 'fishing', 'fit', 'fitness', 'five', 'fix', 'fixed', 'fl', 'flash', 'flat', 'flight', 'flip', 'floor', 'florida', 'flow', 'flu', 'fly', 'flying', 'fm', 'fml', 'focus', 'folks', 'follow', 'followed', 'followers', 'followfriday', 'following', 'food', 'fool', 'foot', 'football', 'for', 'force', 'ford', 'foreclosure', 'forever', 'forex', 'forget', 'forgot', 'form', 'former', 'fort', 'fortune', 'forum', 'forward', 'found', 'foundation', 'founder', 'four', 'fox', 'francisco', 'frank', 'freaking', 'free', 'freedom', 'french', 'fresh', 'fresno', 'fri', 'friday', 'friend', 'friendly', 'friends', 'from', 'front', 'fruit', 'ft', 'ftw', 'fuck', 'fuckin', 'fucking', 'full', 'fully', 'fun', 'fund', 'funny', 'future', 'fyi', 'g', 'ga', 'gadgets', 'gaga', 'gain', 'gallery', 'game', 'games', 'gaming', 'garden', 'gas', 'gave', 'gay', 'gear', 'general', 'generation', 'genius', 'george', 'get', 'gets', 'gettin', 'getting', 'giant', 'giants', 'gift', 'gifts', 'girl', 'girls', 'give', 'giveaway', 'given', 'gives', 'giving', 'glad', 'glass', 'glee', 'global', 'globe', 'gm', 'gmail', 'go', 'goal', 'goals', 'god', 'goes', 'goin', 'going', 'gold', 'golden', 'golf', 'gone', 'gonna', 'good', 'goodbye', 'goodness', 'goodnight', 'google', 'gop', 'gorgeous', 'gossip', 'got', 'gotta', 'gotten', 'gov', 'government', 'gr', 'grab', 'grade', 'grand', 'graphic', 'great', 'greatest', 'green', 'greg', 'grind', 'grocery', 'ground', 'group', 'groups', 'grow', 'growing', 'growth', 'gt', 'guess', 'guest', 'guide', 'guilty', 'guitar', 'gun', 'guy', 'guys', 'gym', 'h', 'ha', 'had', 'haha', 'hahaha', 'hahahaha', 'hair', 'half', 'hall', 'halloween', 'hand', 'handle', \"handle's\", 'hands', 'hang', 'hanging', 'happen', 'happened', 'happening', 'happens', 'happiness', 'happy', 'hard', 'has', \"hasn't\", 'hat', 'hate', 'have', \"haven't\", 'havent', 'having', 'hcr', 'hd', 'he', \"he's\", 'head', 'headache', 'headed', 'heading', 'heads', 'health', 'healthcare', 'healthy', 'hear', 'heard', 'hearing', 'heart', 'heat', 'heaven', 'heavy', 'heck', 'hehe', 'held', 'hell', 'hello', 'help', 'helped', 'helping', 'helps', 'her', 'here', \"here's\", 'hero', 'heroes', 'het', 'hey', 'hi', 'high', 'higher', 'highly', 'hilarious', 'hill', 'hills', 'him', 'himself', 'hip', 'hire', 'hiring', 'his', 'history', 'hit', 'hits', 'hitting', 'hmm', 'hmmm', 'hockey', 'hold', 'holding', 'holiday', 'holidays', 'holla', 'hollywood', 'holy', 'home', 'homes', 'homework', 'homie', 'honest', 'honey', 'honor', 'hood', 'hook', 'hop', 'hope', 'hopefully', 'hopes', 'hoping', 'horrible', 'horse', 'hospital', 'host', 'hosted', 'hosting', 'hot', 'hotel', 'hotels', 'hotjobs', 'hour', 'hours', 'house', 'houston', 'how', \"how's\", 'however', 'hr', 'hrs', 'huge', 'hugs', 'huh', 'human', 'humor', 'hungry', 'hurry', 'hurt', 'hurts', 'husband', 'i', \"i'd\", \"i'll\", \"i'm\", \"i've\", 'ice', 'id', 'idea', 'ideas', 'idk', 'if', 'ii', 'ik', 'ill', 'im', 'ima', 'image', 'images', 'imagine', 'imma', 'impact', 'important', 'improve', 'in', 'inc', 'include', 'including', 'income', 'increase', 'incredible', 'indeed', 'india', 'industry', 'info', 'information', 'injury', 'innovation', 'insane', 'inside', 'inspiration', 'inspired', 'instant', 'instead', 'insurance', 'interactive', 'interest', 'interested', 'interesting', 'international', 'internet', 'interview', 'interviews', 'into', 'investing', 'investment', 'invite', 'involved', 'iphone', 'ipod', 'iran', 'is', 'ish', 'island', \"isn't\", 'issue', 'issues', 'it', \"it'll\", \"it's\", 'italian', 'items', 'its', 'itunes', 'it’s', 'ive', 'j', 'jack', 'jackson', 'jam', 'james', 'january', 'japan', 'japanese', 'jason', 'jay', 'jazz', 'je', 'jealous', 'jeans', 'jeff', 'jersey', 'jesus', 'jewelry', 'jim', 'jimmy', 'jk', 'job', 'jobs', 'joe', 'john', 'johnny', 'johnson', 'join', 'joined', 'joining', 'joint', 'joke', 'jokes', 'jon', 'jones', 'jose', 'josh', 'journal', 'journalism', 'journey', 'joy', 'jr', 'judge', 'juice', 'july', 'jump', 'june', 'jus', 'just', 'justice', 'justin', 'k', 'kansas', 'kanye', 'keep', 'keeping', 'keeps', 'kelly', 'kennedy', 'kept', 'kevin', 'key', 'keys', 'kick', 'kicked', 'kicks', 'kid', 'kidding', 'kids', 'kill', 'killed', 'killer', 'killing', 'kim', 'kind', 'kinda', 'king', 'kiss', 'kitchen', 'knew', 'kno', 'know', 'knowing', 'knowledge', 'known', 'knows', 'kt', 'l', 'la', 'lab', 'labor', 'lack', 'ladies', 'lady', 'lain', 'lake', 'lakers', 'lame', 'land', 'language', 'laptop', 'large', 'largest', 'larry', 'las', 'last', 'late', 'lately', 'later', 'latest', 'laugh', 'laughing', 'launch', 'launched', 'launches', 'laundry', 'law', 'lay', 'lazy', 'le', 'lead', 'leader', 'leaders', 'leadership', 'leading', 'leads', 'league', 'learn', 'learned', 'learning', 'least', 'leave', 'leaves', 'leaving', 'led', 'lee', 'left', 'leg', 'legal', 'leno', 'less', 'lesson', 'lessons', 'let', \"let's\", 'lets', 'letter', 'letting', 'level', 'library', 'lie', 'lies', 'life', 'light', 'lights', 'like', 'liked', 'likely', 'likes', 'lil', 'limited', 'line', 'lines', 'link', 'linkedin', 'links', 'list', 'listed', 'listen', 'listening', 'listing', 'lists', 'literally', 'little', 'live', 'lives', 'living', 'lmao', 'lmfao', 'lo', 'loan', 'local', 'location', 'logo', 'lol', 'london', 'long', 'longer', 'look', 'looked', 'lookin', 'looking', 'looks', 'lord', 'los', 'lose', 'loser', 'losing', 'loss', 'lost', 'lot', 'lots', 'loud', 'louis', 'lounge', 'love', 'loved', 'lovely', 'loves', 'loving', 'low', 'lower', 'lt', 'luck', 'lucky', 'lunch', 'luv', 'ly', 'm', 'ma', 'mac', 'machine', 'mad', 'made', 'mafia', 'magazine', 'magic', 'mail', 'main', 'major', 'make', 'makes', 'making', 'male', 'mall', 'mama', 'man', 'management', 'manager', 'many', 'marathon', 'marijuana', 'mark', 'market', 'marketers', 'marketing', 'marriage', 'married', 'martin', 'mary', 'mass', 'massive', 'master', 'match', 'math', 'matt', 'matter', 'matters', 'max', 'may', 'maybe', 'mayor', 'mb', 'me', 'meal', 'mean', 'means', 'meant', 'meat', 'media', 'medical', 'medicine', 'meet', 'meeting', 'meetings', 'member', 'members', 'memories', 'memory', 'men', 'mention', 'mentions', 'menu', 'mess', 'message', 'messages', 'met', 'mexican', 'mexico', 'mi', 'miami', 'michael', 'michigan', 'microsoft', 'mid', 'middle', 'midnight', 'might', 'mike', 'mile', 'miles', 'miley', 'military', 'milk', 'million', 'millions', 'min', 'mind', 'minds', 'mine', 'mini', 'mins', 'minute', 'minutes', 'miss', 'missed', 'missing', 'mission', 'mistakes', 'mix', 'mixed', 'mixtape', 'mj', 'mlm', 'mm', 'mmm', 'mo', 'mobile', 'mode', 'model', 'models', 'modern', 'mom', 'moment', 'moms', 'mon', 'monday', 'money', 'month', 'months', 'mood', 'moon', 'more', 'morning', 'mortgage', 'most', 'mostly', 'mother', 'motion', 'motivation', 'mountain', 'mouth', 'move', 'moved', 'movement', 'moves', 'movie', 'movies', 'moving', 'mp', 'mph', 'mr', 'ms', 'mtv', 'much', 'multi', 'multiple', 'murder', 'muscle', 'museum', 'music', 'musical', 'musicmonday', 'must', 'mw', 'my', 'myself', 'myspace', 'n', 'na', 'nah', 'naked', 'name', 'named', 'names', 'nap', 'nascar', 'nasty', 'nation', 'national', 'natural', 'nature', 'nba', 'nbc', 'nc', 'nd', 'ne', 'near', 'nearly', 'neck', 'need', 'needed', 'needs', 'nervous', 'net', 'network', 'networking', 'networks', 'never', 'new', 'newest', 'news', 'newsletter', 'newspaper', 'next', 'nfl', 'nice', 'nick', 'nigga', 'niggas', 'night', 'nights', 'nintendo', 'nite', 'nj', 'no', 'nobody', 'nominated', 'non', 'none', 'noon', 'nope', 'normal', 'north', 'not', 'note', 'notes', 'nothing', 'notice', 'noticed', 'nov', 'november', 'now', 'number', 'numbers', 'nuts', 'ny', 'nyc', 'o', 'obama', \"obama's\", 'oct', 'october', 'of', 'off', 'offer', 'offering', 'offers', 'office', 'official', 'officially', 'often', 'oh', 'ohio', 'oil', 'ok', 'okay', 'old', 'older', 'omg', 'on', 'once', 'one', 'ones', 'online', 'only', 'onto', 'ooh', 'oops', 'op', 'open', 'opened', 'opening', 'opens', 'opensource', 'opinion', 'opportunities', 'opportunity', 'oprah', 'option', 'options', 'or', 'orange', 'order', 'ordered', 'orders', 'oregon', 'org', 'organic', 'original', 'orlando', 'os', 'other', 'others', 'ouch', 'our', 'out', 'outside', 'outta', 'over', 'own', 'owner', 'owners', 'oz', 'p', 'pa', 'pack', 'package', 'packing', 'page', 'pages', 'paid', 'pain', 'paint', 'painting', 'pair', 'palin', 'palm', 'panel', 'pants', 'paper', 'para', 'parade', 'parents', 'paris', 'park', 'parking', 'part', 'parties', 'partner', 'parts', 'party', 'pass', 'passed', 'passes', 'passion', 'past', 'patrick', 'patriots', 'paul', 'pay', 'paying', 'pc', 'peace', 'peeps', 'people', 'per', 'percent', 'perfect', 'perform', 'performance', 'performing', 'perhaps', 'period', 'person', 'personal', 'pet', 'peter', 'petersburg', 'philadelphia', 'phillies', 'philly', 'phoenix', 'phone', 'phones', 'photo', 'photography', 'photos', 'physician', 'pic', 'pick', 'picked', 'picking', 'picks', 'pics', 'picture', 'pictures', 'pie', 'piece', 'pilot', 'pink', 'pirate', 'pissed', 'pitch', 'pittsburgh', 'pizza', 'place', 'places', 'plan', 'plane', 'planet', 'planned', 'planning', 'plans', 'plastic', 'platform', 'play', 'played', 'player', 'players', 'playing', 'plays', 'please', 'pleasure', 'plenty', 'pls', 'plus', 'plz', 'pm', 'podcast', 'point', 'points', 'poker', 'police', 'policy', 'political', 'politics', 'poll', 'pool', 'poor', 'pop', 'popular', 'por', 'porn', 'portland', 'position', 'positive', 'possible', 'possibly', 'post', 'posted', 'posting', 'posts', 'pot', 'potential', 'power', 'powerful', 'ppl', 'pr', 'practice', 'pray', 'prayer', 'praying', 'pre', 'precious', 'prefer', 'premiere', 'preparing', 'present', 'presentation', 'presents', 'president', 'press', 'pressure', 'pretty', 'preview', 'price', 'prices', 'print', 'private', 'prize', 'pro', 'prob', 'probably', 'problem', 'problems', 'process', 'product', 'production', 'productive', 'products', 'professional', 'profile', 'profit', 'program', 'programs', 'progress', 'project', 'projects', 'promise', 'promo', 'promote', 'proof', 'property', 'protect', 'proud', 'provide', 'ps', 'pst', 'pt', 'public', 'pull', 'pulled', 'pumpkin', 'puppy', 'purchase', 'pure', 'purpose', 'push', 'put', 'puts', 'putting', 'q', 'quality', 'quarter', 'que', 'question', 'questions', 'quick', 'quickly', 'quiet', 'quit', 'quite', 'quiz', 'quote', 'quotes', 'r', 'race', 'racing', 'radio', 'raiders', 'rain', 'raining', 'rainy', 'raise', 'rally', 'ran', 'random', 'rap', 'rate', 'rated', 'rates', 'rather', 'raw', 'ray', 'rd', 're', 'reach', 'reached', 'read', 'reader', 'reading', 'ready', 'real', 'reality', 'realize', 'realized', 'really', 'reason', 'reasons', 'receive', 'received', 'recent', 'recently', 'recession', 'recipe', 'recommend', 'record', 'recording', 'records', 'recovery', 'red', 'reform', 'register', 'regular', 'related', 'relationship', 'relax', 'relaxing', 'release', 'released', 'releases', 'remember', 'reminder', 'reminds', 'remix', 'rent', 'rep', 'repair', 'replace', 'reply', 'report', 'reported', 'reports', 'request', 'rescue', 'research', 'resources', 'respect', 'response', 'ress', 'rest', 'restaurant', 'results', 'retail', 'retirement', 'return', 'retweet', 'reuters', 'revenue', 'review', 'reviews', 'rice', 'rich', 'richard', 'rid', 'ride', 'ridiculous', 'riding', 'right', 'rights', 'rihanna', 'ring', 'rip', 'rise', 'rising', 'risk', 'river', 'road', 'rob', 'robert', 'rock', 'rocks', 'role', 'roll', 'rolling', 'ron', 'room', 'rose', 'round', 'row', 'rsvp', 'rt', 'rts', 'rule', 'rules', 'run', 'running', 'runs', 'rush', 'ryan', 's', 'sad', 'safe', 'safety', 'said', 'saints', 'salad', 'sale', 'sales', 'sam', 'same', 'sample', 'san', 'santa', 'sarah', 'sat', 'saturday', 'sauce', 'save', 'saved', 'saving', 'saw', 'say', 'saying', 'says', 'sc', 'scared', 'scary', 'scene', 'scenes', 'schedule', 'school', 'schools', 'science', 'score', 'scott', 'screen', 'screening', 'sd', 'se', 'sea', 'sean', 'search', 'season', 'seat', 'seats', 'seattle', 'sec', 'second', 'seconds', 'secret', 'secrets', 'section', 'security', 'see', 'seeing', 'seeking', 'seem', 'seems', 'seen', 'sees', 'self', 'sell', 'selling', 'senate', 'send', 'sending', 'senior', 'sense', 'sent', 'seo', 'sept', 'september', 'series', 'serious', 'seriously', 'server', 'service', 'services', 'session', 'set', 'sets', 'setting', 'seven', 'several', 'sex', 'sexy', 'sf', 'shake', 'shall', 'shame', 'share', 'shares', 'sharing', 'she', \"she's\", 'shift', 'ship', 'shipping', 'shirt', 'shirts', 'shit', 'shjobs', 'shoes', 'shoot', 'shooting', 'shop', 'shopping', 'short', 'shot', 'shots', 'should', \"shouldn't\", 'shout', 'shoutout', 'show', 'showed', 'shower', 'showing', 'shows', 'shut', 'si', 'sick', 'side', 'sigh', 'sign', 'signed', 'signing', 'signs', 'silly', 'silver', 'similar', 'simple', 'simply', 'since', 'sing', 'singer', 'singing', 'single', 'sir', 'sis', 'sister', 'sit', 'site', 'sites', 'sitting', 'situation', 'six', 'size', 'ski', 'skills', 'skin', 'sky', 'sleep', 'sleeping', 'sleepy', 'slept', 'slow', 'small', 'smart', 'smell', 'smh', 'smile', 'smith', 'smoke', 'smoking', 'sneak', 'snow', 'so', 'soccer', 'social', 'society', 'soda', 'software', 'solar', 'sold', 'solid', 'solo', 'solution', 'solutions', 'some', 'somebody', 'someone', 'something', 'sometimes', 'somewhere', 'son', 'song', 'songs', 'soo', 'soon', 'sooo', 'soooo', 'sore', 'sorry', 'sort', 'soul', 'sound', 'sounds', 'soup', 'source', 'south', 'southern', 'sox', 'space', 'spam', 'spanish', 'speak', 'speaker', 'speaking', 'special', 'speech', 'speed', 'spend', 'spending', 'spent', 'spirit', 'sport', 'sports', 'spot', 'spread', 'spring', 'springs', 'square', 'st', 'stadium', 'staff', 'stage', 'stand', 'standing', 'star', 'starbucks', 'stars', 'start', 'started', 'starting', 'starts', 'state', 'statement', 'states', 'station', 'status', 'stay', 'staying', 'steelers', 'step', 'steps', 'steve', 'stewart', 'stick', 'still', 'stimulus', 'stock', 'stocks', 'stoked', 'stomach', 'stone', 'stop', 'stopped', 'store', 'stores', 'stories', 'storm', 'story', 'straight', 'strange', 'strategies', 'strategy', 'stream', 'streaming', 'street', 'streets', 'strength', 'stress', 'strip', 'strong', 'stuck', 'student', 'students', 'studio', 'study', 'studying', 'stuff', 'stupid', 'stuttgart', 'style', 'succeed', 'success', 'successful', 'such', 'suck', 'sucks', 'sugar', 'suggestions', 'suit', 'sum', 'summer', 'summit', 'sun', 'sunday', 'sunny', 'super', 'support', 'suppose', 'supposed', 'sure', 'surgery', 'surprise', 'surprised', 'survey', 'sushi', 'suspect', 'swayze', 'swear', 'sweet', 'swift', 'swine', 'system', 'systems', 't', 'table', 'taco', 'tag', 'take', 'taken', 'takes', 'taking', 'talent', 'talk', 'talked', 'talkin', 'talking', 'talks', 'tampa', 'tap', 'tape', 'target', 'taste', 'tax', 'taylor', 'tcot', 'td', 'te', 'tea', 'teach', 'teacher', 'teaching', 'team', 'teams', 'teaparty', 'tech', 'technogadgets®', 'technology', 'teen', 'teeth', 'tell', 'telling', 'tells', 'ten', 'term', 'terrible', 'test', 'testing', 'texas', 'text', 'th', 'tha', 'than', 'thank', 'thankful', 'thanks', 'thanksgiving', 'thanx', 'that', \"that's\", 'thats', 'the', 'theater', 'theatre', 'their', 'them', 'theme', 'themselves', 'then', 'theory', 'therapy', 'there', \"there's\", 'these', 'they', \"they'll\", \"they're\", 'thing', 'things', 'think', 'thinking', 'thinks', 'third', 'this', 'tho', 'thomas', 'those', 'though', 'thought', 'thoughts', 'thousands', 'three', 'through', 'throw', 'thru', 'thurs', 'thursday', 'thx', 'ticket', 'tickets', 'tiger', 'tight', 'til', 'till', 'tim', 'time', 'times', 'tiny', 'tinychat', 'tip', 'tips', 'tired', 'title', 'tix', 'tlot', 'to', 'today', \"today's\", 'together', 'told', 'tom', 'tomorrow', 'ton', 'tonight', \"tonight's\", 'tonite', 'tons', 'tony', 'too', 'took', 'tool', 'tools', 'top', 'topic', 'topprogs', 'total', 'totally', 'touch', 'tough', 'tour', 'town', 'toy', 'toys', 'track', 'tracks', 'trade', 'trading', 'traffic', 'trailer', 'train', 'training', 'travel', 'treat', 'treatment', 'tree', 'trend', 'trending', 'trends', 'trial', 'tribute', 'trick', 'tried', 'trip', 'troops', 'trouble', 'truck', 'true', 'truly', 'trump', 'trust', 'truth', 'try', 'trying', 'tryna', 'tuesday', 'tune', 'tuned', 'turkey', 'turn', 'turned', 'turning', 'turns', 'tv', 'tweeps', 'tweet', 'tweetdeck', 'tweeted', 'tweeting', 'tweets', 'tweetup', 'twice', 'twilight', 'twitter', 'two', 'tx', 'ty', 'type', 'u', 'ufc', 'ugh', 'ugly', 'uh', 'uk', 'ultimate', 'um', 'un', 'under', 'understand', 'understanding', 'unemployment', 'union', 'unique', 'united', 'universe', 'university', 'unless', 'until', 'up', 'upcoming', 'update', 'updated', 'updates', 'upgrade', 'uploaded', 'upon', 'ups', 'upset', 'ur', 'urban', 'us', 'usa', 'usc', 'use', 'used', 'useful', 'user', 'users', 'uses', 'using', 'usually', 'utah', 'v', 'va', 'vacation', 'valley', 'value', 'vampire', 'van', 'vegas', 'verizon', 'version', 'very', 'veterans', 'via', 'victory', 'vid', 'video', 'videos', 'view', 'vintage', 'vip', 'virginia', 'virtual', 'vision', 'visit', 'voice', 'vote', 'voted', 'voting', 'vs', 'w', 'wait', 'waiting', 'wake', 'waking', 'walk', 'walked', 'walking', 'wall', 'walmart', 'wanna', 'want', 'wanted', 'wants', 'war', 'warfare', 'warm', 'warning', 'wars', 'was', 'wash', 'washington', \"wasn't\", 'waste', 'wat', 'watch', 'watched', 'watchin', 'watching', 'water', 'wave', 'way', 'wayne', 'ways', 'we', \"we'd\", \"we'll\", \"we're\", \"we've\", 'weak', 'wealth', 'wear', 'wearing', 'weather', 'web', 'webinar', 'website', 'websites', 'wed', 'wedding', 'wednesday', 'week', \"week's\", 'weekend', 'weekly', 'weeks', 'weight', 'weird', 'welcome', 'well', 'went', 'were', 'west', 'wet', 'what', \"what's\", 'whatever', 'whats', 'when', 'where', \"where's\", 'whether', 'which', 'while', 'white', 'who', \"who's\", 'whoa', 'whole', 'why', 'wi', 'wide', 'wife', 'wifi', 'wii', 'wild', 'will', 'williams', 'willing', 'wilson', 'win', 'wind', 'window', 'windows', 'winds', 'wine', 'wings', 'winner', 'winners', 'winning', 'wins', 'winter', 'wireless', 'wisdom', 'wise', 'wish', 'wishes', 'wishing', 'wit', 'with', 'within', 'without', 'woke', 'woman', 'women', \"women's\", 'won', \"won't\", 'wonder', 'wonderful', 'wondering', 'wont', 'woo', 'woods', 'woot', 'word', 'wordpress', 'words', 'work', 'worked', 'workers', 'workin', 'working', 'workout', 'works', 'workshop', 'world', \"world's\", 'worried', 'worry', 'worse', 'worst', 'worth', 'would', \"wouldn't\", 'wow', 'write', 'writer', 'writers', 'writing', 'written', 'wrong', 'wrote', 'wsj', 'wtf', 'www', 'x', 'xbox', 'xmas', 'y', \"y'all\", 'ya', \"ya'll\", 'yahoo', 'yall', 'yankees', 'yard', 'yay', 'yea', 'yeah', 'year', 'years', 'yellow', 'yep', 'yes', 'yesterday', 'yet', 'yo', 'yoga', 'york', 'you', \"you'd\", \"you'll\", \"you're\", \"you've\", 'young', 'your', 'yours', 'yourself', 'youth', 'youtube', 'yr', 'yrs', 'yu', 'yum', 'yummy', 'yup', 'z', 'zero', 'zombie', 'zone', '|', '~', '«', '»', '–', '—', '”', '•', '♫']\n",
      "3000\n"
     ]
    }
   ],
   "source": [
    "bow_transformer=CountVectorizer(analyzer=preprocess, max_features=3000).fit(X_train)\n",
    "text_bow_train=bow_transformer.transform(X_train)\n",
    "text_bow_dev=bow_transfo rmer.transform(X_dev)\n",
    "\n",
    "input_dim = len(bow_transformer.get_feature_names())\n",
    "print(bow_transformer.get_feature_names())\n",
    "print(len(bow_transformer.get_feature_names()))"
   ]
  },
  {
   "cell_type": "code",
   "execution_count": 38,
   "metadata": {
    "collapsed": false,
    "deletable": true,
    "editable": true
   },
   "outputs": [
    {
     "name": "stdout",
     "output_type": "stream",
     "text": [
      "SVM model is built.\n",
      "[LibSVM]"
     ]
    }
   ],
   "source": [
    "method = 'SVM'\n",
    "\n",
    "if method == 'NB':\n",
    "  model = MultinomialNB()\n",
    "if method == 'SVM':\n",
    "  model = SVC(gamma='auto',verbose=3, C=1.0, kernel='linear')\n",
    "  \n",
    "print(method +' model is built.')\n",
    "model = model.fit(text_bow_train, y_train)"
   ]
  },
  {
   "cell_type": "code",
   "execution_count": 25,
   "metadata": {
    "collapsed": false,
    "deletable": true,
    "editable": true
   },
   "outputs": [
    {
     "data": {
      "text/plain": [
       "0.07745340945814931"
      ]
     },
     "execution_count": 25,
     "metadata": {},
     "output_type": "execute_result"
    }
   ],
   "source": [
    "model.score(text_bow_train, y_train)"
   ]
  },
  {
   "cell_type": "code",
   "execution_count": 31,
   "metadata": {
    "collapsed": false,
    "deletable": true,
    "editable": true
   },
   "outputs": [
    {
     "name": "stdout",
     "output_type": "stream",
     "text": [
      "MultinomialNB(alpha=1.0, class_prior=None, fit_prior=True)\n",
      "8000 features\n",
      "All classes\n",
      "Val_acc: 0.07309678697116044\n"
     ]
    }
   ],
   "source": [
    "print(model)\n",
    "print('8000 features')\n",
    "print('All classes')\n",
    "print('Val_acc: '+str(model.score(text_bow_dev, y_dev)))"
   ]
  },
  {
   "cell_type": "code",
   "execution_count": null,
   "metadata": {
    "collapsed": true
   },
   "outputs": [],
   "source": [
    "predict_y = model.predict(text_bow_dev)"
   ]
  },
  {
   "cell_type": "code",
   "execution_count": 34,
   "metadata": {
    "collapsed": false
   },
   "outputs": [
    {
     "name": "stdout",
     "output_type": "stream",
     "text": [
      "The accuracy:  0.07309678697116044\n",
      "The precision:  0.0630055678313099\n",
      "The recall:  0.0351348727758194\n",
      "The f1-score:  0.03504775186062868\n"
     ]
    },
    {
     "name": "stderr",
     "output_type": "stream",
     "text": [
      "C:\\Users\\user\\AppData\\Roaming\\Python\\Python37\\site-packages\\sklearn\\metrics\\classification.py:1143: UndefinedMetricWarning: Precision is ill-defined and being set to 0.0 in labels with no predicted samples.\n",
      "  'precision', 'predicted', average, warn_for)\n",
      "C:\\Users\\user\\AppData\\Roaming\\Python\\Python37\\site-packages\\sklearn\\metrics\\classification.py:1143: UndefinedMetricWarning: F-score is ill-defined and being set to 0.0 in labels with no predicted samples.\n",
      "  'precision', 'predicted', average, warn_for)\n"
     ]
    }
   ],
   "source": [
    "def classifier_report(true_y, predict_y):\n",
    "    \n",
    "    print(\"The accuracy: \",accuracy_score(true_y, predict_y))\n",
    "    print(\"The precision: \", precision_score(true_y, predict_y, average = \"macro\"))\n",
    "    print(\"The recall: \", recall_score(true_y, predict_y, average = \"macro\"))\n",
    "    print(\"The f1-score: \", f1_score(true_y, predict_y, average = \"macro\"))\n",
    "    \n",
    "    return \n",
    "classifier_report(y_dev,predict_y)"
   ]
  },
  {
   "cell_type": "code",
   "execution_count": 39,
   "metadata": {
    "collapsed": true
   },
   "outputs": [],
   "source": [
    "import pickle\n",
    "filename = 'SVM_3000d_model.sav'\n",
    "pickle.dump(model, open(filename, 'wb'))"
   ]
  },
  {
   "cell_type": "code",
   "execution_count": null,
   "metadata": {
    "collapsed": true
   },
   "outputs": [],
   "source": []
  }
 ],
 "metadata": {
  "kernelspec": {
   "display_name": "voodoo",
   "language": "python",
   "name": "voodoo"
  },
  "language_info": {
   "codemirror_mode": {
    "name": "ipython",
    "version": 3
   },
   "file_extension": ".py",
   "mimetype": "text/x-python",
   "name": "python",
   "nbconvert_exporter": "python",
   "pygments_lexer": "ipython3",
   "version": "3.7.3"
  }
 },
 "nbformat": 4,
 "nbformat_minor": 2
}
