{
 "cells": [
  {
   "cell_type": "code",
   "execution_count": null,
   "metadata": {},
   "outputs": [],
   "source": [
    "from tensorflow.keras.preprocessing.text import Tokenizer\n",
    "from tensorflow.keras.preprocessing.sequence import pad_sequences\n",
    "import pandas as pd\n",
    "import numpy as np\n",
    "from tensorflow.keras.models import Sequential\n",
    "from tensorflow.keras.layers import Embedding, Flatten, Dense,SpatialDropout1D,LSTM\n",
    "from tensorflow.keras.utils import to_categorical\n",
    "from tensorflow.keras.callbacks import EarlyStopping\n",
    "\n",
    "from sklearn.model_selection import train_test_split\n",
    "import matplotlib.pyplot as plt\n",
    "import re"
   ]
  },
  {
   "cell_type": "code",
   "execution_count": null,
   "metadata": {},
   "outputs": [],
   "source": [
    "# Read a prepare data\n",
    "\n",
    "def read_prep_token_data(tweets_file,maxlen=10,max_words = 10000):\n",
    "    data = []\n",
    "    with open(tweets_file, \"r\") as file:\n",
    "        for i in file:\n",
    "            data_line = file.readline()\n",
    "            data_line = data_line.replace(\"@handle\",\"\")\n",
    "            data_line = re.sub(r'http\\S+', '', data_line)\n",
    "            data_line = data_line.replace(\"\\n\",\"\")\n",
    "            data_line = data_line.split(\"\\t\")\n",
    "            data.append(data_line)\n",
    "    \n",
    "    idx = np.asarray([data[i][0] for i in range(len(data))],dtype=int)    \n",
    "    \n",
    "    text = [data[i][1] for i in range(len(data))]\n",
    "    tokenizer = Tokenizer(num_words=max_words)\n",
    "    tokenizer.fit_on_texts(text)\n",
    "    token_data = tokenizer.texts_to_sequences(text)\n",
    "    token_data = pad_sequences(token_data, maxlen=maxlen)\n",
    "    \n",
    "    \n",
    "    return idx,token_data,tokenizer\n"
   ]
  },
  {
   "cell_type": "code",
   "execution_count": null,
   "metadata": {},
   "outputs": [],
   "source": [
    "idx,token_data,tokenizer = read_prep_token_data(\"train_tweets.txt\")\n",
    "X_train, X_test, y_train, y_test = train_test_split(\n",
    "    token_data, idx, test_size=0.25, random_state=69)"
   ]
  },
  {
   "cell_type": "code",
   "execution_count": null,
   "metadata": {},
   "outputs": [],
   "source": [
    "maxlen=10\n",
    "max_words = 10000\n",
    "embedding_dim = 100\n",
    "y_train_cat = to_categorical(y_train)"
   ]
  },
  {
   "cell_type": "code",
   "execution_count": null,
   "metadata": {},
   "outputs": [],
   "source": [
    "model = Sequential()\n",
    "model.add(Embedding(max_words, embedding_dim, input_length=maxlen))\n",
    "# model.add(Embedding(MAX_NB_WORDS, EMBEDDING_DIM, input_length=X.shape[1]))\n",
    "model.add(SpatialDropout1D(0.2))\n",
    "model.add(LSTM(1000, dropout=0.2, recurrent_dropout=0.2))\n",
    "model.add(Dense(y_train_cat.shape[1], activation='softmax'))\n",
    "model.compile(loss='categorical_crossentropy', optimizer='adam', metrics=['accuracy'])\n",
    "\n",
    "epochs = 5\n",
    "batch_size = 64\n",
    "\n",
    "history = model.fit(X_train/max_words, y_train_cat, epochs=epochs, batch_size=batch_size,validation_split=0.1,callbacks=[EarlyStopping(monitor='val_loss', patience=3, min_delta=0.0001)])"
   ]
  },
  {
   "cell_type": "code",
   "execution_count": null,
   "metadata": {},
   "outputs": [],
   "source": []
  }
 ],
 "metadata": {
  "kernelspec": {
   "display_name": "Python 3",
   "language": "python",
   "name": "python3"
  },
  "language_info": {
   "codemirror_mode": {
    "name": "ipython",
    "version": 3
   },
   "file_extension": ".py",
   "mimetype": "text/x-python",
   "name": "python",
   "nbconvert_exporter": "python",
   "pygments_lexer": "ipython3",
   "version": "3.7.4"
  }
 },
 "nbformat": 4,
 "nbformat_minor": 2
}
